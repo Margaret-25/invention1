{
  "metadata": {
    "kernelspec": {
      "name": "python",
      "display_name": "Pyolite",
      "language": "python"
    },
    "language_info": {
      "codemirror_mode": {
        "name": "python",
        "version": 3
      },
      "file_extension": ".py",
      "mimetype": "text/x-python",
      "name": "python",
      "nbconvert_exporter": "python",
      "pygments_lexer": "ipython3",
      "version": "3.8"
    }
  },
  "nbformat_minor": 4,
  "nbformat": 4,
  "cells": [
    {
      "cell_type": "markdown",
      "source": "<center>\n    <img src=\"https://cf-courses-data.s3.us.cloud-object-storage.appdomain.cloud/IBMDeveloperSkillsNetwork-DS0105EN-SkillsNetwork/labs/Module2/images/SN_web_lightmode.png\" width=\"300\" alt=\"cognitiveclass.ai logo\"  />\n</center>\n",
      "metadata": {}
    },
    {
      "cell_type": "markdown",
      "source": "#### Add your code below following the instructions given in the course\n",
      "metadata": {}
    },
    {
      "cell_type": "markdown",
      "source": "# My Jupyter Notebook on IBM Watson Studio",
      "metadata": {}
    },
    {
      "cell_type": "markdown",
      "source": "**Yewande Akinola**\n\nI want to be a Data Scientist",
      "metadata": {}
    },
    {
      "cell_type": "markdown",
      "source": "*I am interested in data science because i love to work with datas. Also, I am interested in data science because it help me put my curiousity to use.*",
      "metadata": {}
    },
    {
      "cell_type": "markdown",
      "source": "### Carry out the multiplication of two numbers",
      "metadata": {}
    },
    {
      "cell_type": "code",
      "source": "2 * 3",
      "metadata": {
        "trusted": true
      },
      "execution_count": 5,
      "outputs": [
        {
          "execution_count": 5,
          "output_type": "execute_result",
          "data": {
            "text/plain": "6"
          },
          "metadata": {}
        }
      ]
    },
    {
      "cell_type": "markdown",
      "source": "1. Book\n2. Bag\n..* handbag\n1. Textbook\n..1. scandals\n\n\n[I'm an inline-style link](https://www.google.com)\n\n[You can use numbers for reference-style link definitions][1]\n\n| Name | Age    | Sex    |\n| ---- | :----: | -----: |\n| Eric | 35     | M      |\n| Love | 25     | F      |\n\n\nThis line is also a separate paragraph, but...\n\nThis line is only separated by a single newline, so it's a separate line in the *same paragraph*.\n",
      "metadata": {}
    },
    {
      "cell_type": "markdown",
      "source": "",
      "metadata": {}
    }
  ]
}